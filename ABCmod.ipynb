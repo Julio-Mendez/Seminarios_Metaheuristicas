{
 "cells": [
  {
   "cell_type": "code",
   "execution_count": 1,
   "metadata": {},
   "outputs": [],
   "source": [
    "import numpy as np"
   ]
  },
  {
   "cell_type": "code",
   "execution_count": 2,
   "metadata": {},
   "outputs": [],
   "source": [
    "class Bee:\n",
    "    def __init__(self, posicion, fitness):\n",
    "        self.posicion = posicion\n",
    "        self.fitness = fitness\n",
    "\n",
    "\n",
    "class ABC:\n",
    "    def __init__(\n",
    "        self,\n",
    "        funcion_objetivo: list,\n",
    "        colony_size: int = 50,\n",
    "        max_envios: int = 100,\n",
    "        limit: int = 50,\n",
    "        nv: int = 2,\n",
    "    ):\n",
    "        \"\"\"Algoritmo de minimizacion ABC\n",
    "\n",
    "        Args:\n",
    "            funcion_objetivo (list): funcion objetivo\n",
    "            colony_size (int, optional): tamano de la colonia. Defaults to 30.\n",
    "            max_envios (int, optional): numero de iteraciones. Defaults to 100.\n",
    "            nv (int, optional): numero de variables de la funcion objetivo. Defaults to 2.\n",
    "        \"\"\"\n",
    "        self.funcion_objetivo = funcion_objetivo\n",
    "        self.colony_size = colony_size\n",
    "        self.max_envios = max_envios\n",
    "        self.nv = nv\n",
    "\n",
    "    def enviar_abejas_obreras(self):\n",
    "        for i in range(self.colony_size):\n",
    "            nueva_posicion = self.poblacion[i].posicion + np.random.uniform(\n",
    "                -1, 1, size=self.nv\n",
    "            )\n",
    "            nuevo_fitness = self.funcion_objetivo(*nueva_posicion)\n",
    "            if (\n",
    "                self.poblacion[i].fitness is None\n",
    "                or nuevo_fitness < self.poblacion[i].fitness\n",
    "            ):\n",
    "                self.poblacion[i].posicion = nueva_posicion\n",
    "                self.poblacion[i].fitness = nuevo_fitness\n",
    "\n",
    "    def enviar_abejas_observadoras(self):\n",
    "        total_fitness = sum(bee.fitness for bee in self.poblacion)\n",
    "        probabilidades = [bee.fitness / total_fitness for bee in self.poblacion]\n",
    "\n",
    "        for i in range(self.colony_size):\n",
    "            elegir_index = np.random.choice(range(self.colony_size), p=probabilidades)\n",
    "            nueva_posicion = self.poblacion[elegir_index].posicion + np.random.uniform(\n",
    "                -1, 1, size=self.nv\n",
    "            )\n",
    "            nuevo_fitness = self.funcion_objetivo(*nueva_posicion)\n",
    "            if nuevo_fitness < self.poblacion[elegir_index].fitness:\n",
    "                self.poblacion[elegir_index].posicion = nueva_posicion\n",
    "                self.poblacion[elegir_index].fitness = nuevo_fitness\n",
    "\n",
    "    def enviar_abejas_exploradoras(self):\n",
    "        for i in range(self.colony_size):\n",
    "            if self.poblacion[i].fitness is None:\n",
    "                self.poblacion[i].posicion = np.random.uniform(-10, 10, size=self.nv)\n",
    "                self.poblacion[i].fitness = self.funcion_objetivo(\n",
    "                    *self.poblacion[i].posicion\n",
    "                )\n",
    "\n",
    "    def ejecutarABC(self):\n",
    "        self.poblacion = [\n",
    "            Bee(np.random.uniform(-10, 10, size=self.nv), None)\n",
    "            for _ in range(self.colony_size)\n",
    "        ]\n",
    "\n",
    "        for _ in range(self.max_envios):\n",
    "            self.enviar_abejas_obreras()\n",
    "            self.enviar_abejas_observadoras()\n",
    "            self.enviar_abejas_exploradoras()\n",
    "\n",
    "        return min(self.poblacion, key=lambda bee: bee.fitness).posicion"
   ]
  },
  {
   "cell_type": "code",
   "execution_count": 3,
   "metadata": {},
   "outputs": [
    {
     "name": "stdout",
     "output_type": "stream",
     "text": [
      "Mejor solución encontrada: [1.00674229 1.01586843]\n",
      "Valor de la función objetivo en la mejor solución: 5.0926513476442606e-05\n"
     ]
    }
   ],
   "source": [
    "# Ejecucion\n",
    "def objetive_function(x, y):\n",
    "    return (y - x**2) ** 2 + (1 - x) ** 2\n",
    "\n",
    "\n",
    "abc = ABC(objetive_function)\n",
    "mejor_solucion = abc.ejecutarABC()\n",
    "print(\"Mejor solución encontrada:\", mejor_solucion)\n",
    "print(\n",
    "    \"Valor de la función objetivo en la mejor solución:\",\n",
    "    objetive_function(*mejor_solucion),\n",
    ")"
   ]
  }
 ],
 "metadata": {
  "kernelspec": {
   "display_name": "Optimizar_ENV",
   "language": "python",
   "name": "python3"
  },
  "language_info": {
   "codemirror_mode": {
    "name": "ipython",
    "version": 3
   },
   "file_extension": ".py",
   "mimetype": "text/x-python",
   "name": "python",
   "nbconvert_exporter": "python",
   "pygments_lexer": "ipython3",
   "version": "3.12.3"
  }
 },
 "nbformat": 4,
 "nbformat_minor": 2
}
