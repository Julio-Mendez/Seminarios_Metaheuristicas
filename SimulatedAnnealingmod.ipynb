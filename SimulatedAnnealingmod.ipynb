{
 "cells": [
  {
   "cell_type": "code",
   "execution_count": 1,
   "metadata": {},
   "outputs": [],
   "source": [
    "import math\n",
    "import random\n",
    "import matplotlib.pyplot as plt"
   ]
  },
  {
   "cell_type": "code",
   "execution_count": 2,
   "metadata": {},
   "outputs": [],
   "source": [
    "# Definición de la función de prueba Rosenbrock\n",
    "def rosenbrock(x, y):\n",
    "    return (1 - x) ** 2 + 100 * (y - x**2) ** 2\n",
    "\n",
    "\n",
    "def simulated_annealing(\n",
    "    funcion: list,\n",
    "    initial_state: list[float, float],\n",
    "    temperature: float,\n",
    "    cooling_rate: float,\n",
    "    min_temperature: float,\n",
    "    max_iter: int,\n",
    "):\n",
    "    \"\"\"algoritmo Simulated Annealing\n",
    "\n",
    "    Args:\n",
    "        funcion (list): funcion objetivo\n",
    "        initial_state (list[float, float]): valores de partida\n",
    "        temperature (float): temperatura inicial\n",
    "        cooling_rate (float): tasa de reduccion de temperatura\n",
    "        min_temperature (float): temperatura minima\n",
    "        max_iter (int): numero de iteraciones maxima\n",
    "\n",
    "    Returns:\n",
    "        best_state (list[float, float]): minimizadores (x,y)\n",
    "        best_energy (float): minimo f(x,y)\n",
    "    \"\"\"\n",
    "    current_state = initial_state\n",
    "    best_state = initial_state\n",
    "    current_energy = funcion(*initial_state)\n",
    "    best_energy = current_energy\n",
    "\n",
    "    for i in range(max_iter):\n",
    "        # Generar un nuevo estado aleatorio\n",
    "        new_state = (\n",
    "            current_state[0] + random.uniform(-1, 1),\n",
    "            current_state[1] + random.uniform(-1, 1),\n",
    "        )\n",
    "\n",
    "        # Calcular la energía del nuevo estado\n",
    "        new_energy = funcion(*new_state)\n",
    "\n",
    "        # Calcular la diferencia de energía entre el nuevo estado y el estado actual\n",
    "        energy_delta = new_energy - current_energy\n",
    "\n",
    "        # Si el nuevo estado es mejor que el actual, aceptarlo\n",
    "        if energy_delta < 0 or random.random() < math.exp(-energy_delta / temperature):\n",
    "            current_state = new_state\n",
    "            current_energy = new_energy\n",
    "\n",
    "            # Si es el mejor hasta ahora, actualizar\n",
    "            if current_energy < best_energy:\n",
    "                best_state = current_state\n",
    "                best_energy = current_energy\n",
    "\n",
    "        # Reducir la temperatura\n",
    "        temperature *= cooling_rate\n",
    "        temperature = max(temperature, min_temperature)\n",
    "\n",
    "    return best_state, best_energy"
   ]
  },
  {
   "cell_type": "code",
   "execution_count": 8,
   "metadata": {},
   "outputs": [
    {
     "name": "stdout",
     "output_type": "stream",
     "text": [
      "Mejor solución encontrada:\n",
      "x = 0.9631433697112877\n",
      "y = 0.9378345435350293\n",
      "Valor de la función: 0.01174078399634032\n"
     ]
    }
   ],
   "source": [
    "# Parámetros del algoritmo\n",
    "initial_state = (-2, 2)  # Estado inicial\n",
    "temperature = 100  # Temperatura inicial\n",
    "cooling_rate = 0.95  # Tasa de enfriamiento\n",
    "min_temperature = 0.01  # Temperatura mínima\n",
    "max_iter = 1000  # Número máximo de iteraciones\n",
    "\n",
    "# Ejecutar el algoritmo\n",
    "best_state, best_energy = simulated_annealing(\n",
    "    rosenbrock, initial_state, temperature, cooling_rate, min_temperature, max_iter\n",
    ")\n",
    "\n",
    "print(\"Mejor solución encontrada:\")\n",
    "print(\"x =\", best_state[0])\n",
    "print(\"y =\", best_state[1])\n",
    "print(\"Valor de la función:\", best_energy)"
   ]
  }
 ],
 "metadata": {
  "kernelspec": {
   "display_name": "Optimizar_ENV",
   "language": "python",
   "name": "python3"
  },
  "language_info": {
   "codemirror_mode": {
    "name": "ipython",
    "version": 3
   },
   "file_extension": ".py",
   "mimetype": "text/x-python",
   "name": "python",
   "nbconvert_exporter": "python",
   "pygments_lexer": "ipython3",
   "version": "3.12.3"
  }
 },
 "nbformat": 4,
 "nbformat_minor": 2
}
