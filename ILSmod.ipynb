{
 "cells": [
  {
   "cell_type": "code",
   "execution_count": 4,
   "metadata": {},
   "outputs": [],
   "source": [
    "import random\n",
    "import math"
   ]
  },
  {
   "cell_type": "code",
   "execution_count": 5,
   "metadata": {},
   "outputs": [],
   "source": [
    "# Definición de la función de prueba Rosenbrock\n",
    "def rosenbrock(x, y):\n",
    "    return (1 - x) ** 2 + 100 * (y - x**2) ** 2\n",
    "\n",
    "\n",
    "def iterated_local_search(\n",
    "    funcion: list,\n",
    "    initial_solution: list[float, float],\n",
    "    neighborhood_size: float,\n",
    "    max_iter: int,\n",
    "):\n",
    "    \"\"\"algoritmo Iterated Local Search\n",
    "\n",
    "    Args:\n",
    "        funcion (list): funcion objetivo\n",
    "        initial_solution (list[float, float]): valores iniciales\n",
    "        neighborhood_size (float): tamano del vecindario (0,1)\n",
    "        max_iter (int): numero maximo de iteraciones\n",
    "\n",
    "    Returns:\n",
    "        best_solution: minimizadores (x,y)\n",
    "        best_fitness: minimo encontrado f(x,y)\n",
    "    \"\"\"\n",
    "    current_solution = initial_solution\n",
    "    best_solution = initial_solution\n",
    "    current_fitness = funcion(*initial_solution)\n",
    "    best_fitness = current_fitness\n",
    "\n",
    "    for _ in range(max_iter):\n",
    "        # Perturbación: Seleccionar un vecino aleatorio del vecindario\n",
    "        neighbor = (\n",
    "            current_solution[0] + random.uniform(-neighborhood_size, neighborhood_size),\n",
    "            current_solution[1] + random.uniform(-neighborhood_size, neighborhood_size),\n",
    "        )\n",
    "\n",
    "        # Búsqueda local: Optimizar el vecino usando una búsqueda local simple\n",
    "        neighbor_fitness = funcion(*neighbor)\n",
    "        if neighbor_fitness < current_fitness:\n",
    "            current_solution = neighbor\n",
    "            current_fitness = neighbor_fitness\n",
    "\n",
    "        # Actualizar la mejor solución encontrada hasta ahora\n",
    "        if current_fitness < best_fitness:\n",
    "            best_solution = current_solution\n",
    "            best_fitness = current_fitness\n",
    "\n",
    "    return best_solution, best_fitness"
   ]
  },
  {
   "cell_type": "code",
   "execution_count": 6,
   "metadata": {},
   "outputs": [
    {
     "name": "stdout",
     "output_type": "stream",
     "text": [
      "Mejor solución encontrada:\n",
      "x = 0.9704708389254341\n",
      "y = 0.9418928876983936\n",
      "Valor de la función: 0.0008725992276569605\n"
     ]
    }
   ],
   "source": [
    "# Parámetros del algoritmo\n",
    "initial_solution = (-2, 2)  # Solución inicial\n",
    "neighborhood_size = 0.1  # Tamaño del vecindario\n",
    "max_iter = 1000  # Número máximo de iteraciones\n",
    "\n",
    "# Ejecutar el algoritmo\n",
    "best_solution, best_fitness = iterated_local_search(\n",
    "    rosenbrock, initial_solution, neighborhood_size, max_iter\n",
    ")\n",
    "\n",
    "print(\"Mejor solución encontrada:\")\n",
    "print(\"x =\", best_solution[0])\n",
    "print(\"y =\", best_solution[1])\n",
    "print(\"Valor de la función:\", best_fitness)"
   ]
  }
 ],
 "metadata": {
  "kernelspec": {
   "display_name": "Optimizar_ENV",
   "language": "python",
   "name": "python3"
  },
  "language_info": {
   "codemirror_mode": {
    "name": "ipython",
    "version": 3
   },
   "file_extension": ".py",
   "mimetype": "text/x-python",
   "name": "python",
   "nbconvert_exporter": "python",
   "pygments_lexer": "ipython3",
   "version": "3.12.3"
  }
 },
 "nbformat": 4,
 "nbformat_minor": 2
}
